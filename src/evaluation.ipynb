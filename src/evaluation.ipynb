{
 "cells": [
  {
   "cell_type": "code",
   "execution_count": 427,
   "metadata": {
    "collapsed": true,
    "ExecuteTime": {
     "start_time": "2024-09-12T12:00:34.551062Z",
     "end_time": "2024-09-12T12:00:34.555422Z"
    }
   },
   "outputs": [
    {
     "data": {
      "text/plain": "True"
     },
     "execution_count": 427,
     "metadata": {},
     "output_type": "execute_result"
    }
   ],
   "source": [
    "import os\n",
    "from tqdm import tqdm\n",
    "import pandas as pd\n",
    "import numpy as np\n",
    "from langchain.text_splitter import RecursiveCharacterTextSplitter\n",
    "from langchain.document_loaders import DataFrameLoader\n",
    "from langchain_community.embeddings import HuggingFaceBgeEmbeddings\n",
    "from langchain.vectorstores import Pinecone as PL\n",
    "from loguru import logger as logging\n",
    "\n",
    "from dotenv import load_dotenv\n",
    "load_dotenv()"
   ]
  },
  {
   "cell_type": "code",
   "execution_count": 428,
   "outputs": [],
   "source": [
    "model_name = \"BAAI/bge-m3\"\n",
    "\n",
    "embedding_function = HuggingFaceBgeEmbeddings(\n",
    "    model_name=model_name,\n",
    "    model_kwargs={'device': 'cuda'},\n",
    "    encode_kwargs={'normalize_embeddings': True}\n",
    ")"
   ],
   "metadata": {
    "collapsed": false,
    "ExecuteTime": {
     "start_time": "2024-09-12T12:00:35.328926Z",
     "end_time": "2024-09-12T12:00:39.242326Z"
    }
   }
  },
  {
   "cell_type": "code",
   "execution_count": 25,
   "outputs": [
    {
     "name": "stderr",
     "output_type": "stream",
     "text": [
      "C:\\Users\\ekurochkina\\AppData\\Local\\Temp2\\ipykernel_19968\\3880527182.py:1: DtypeWarning: Columns (3) have mixed types. Specify dtype option on import or set low_memory=False.\n",
      "  news_df = pd.read_csv('../lenta-ru-news.csv')\n",
      "\u001B[32m2024-09-12 07:58:12.137\u001B[0m | \u001B[1mINFO    \u001B[0m | \u001B[36m__main__\u001B[0m:\u001B[36m<module>\u001B[0m:\u001B[36m4\u001B[0m - \u001B[1mdocuments: 800975\u001B[0m\n",
      "\u001B[32m2024-09-12 08:03:44.406\u001B[0m | \u001B[1mINFO    \u001B[0m | \u001B[36m__main__\u001B[0m:\u001B[36m<module>\u001B[0m:\u001B[36m8\u001B[0m - \u001B[1mdocs: 19296165\u001B[0m\n"
     ]
    }
   ],
   "source": [
    "news_df = pd.read_csv('../lenta-ru-news.csv')\n",
    "loader = DataFrameLoader(news_df, page_content_column='text')\n",
    "documents = loader.load()\n",
    "logging.info(f'documents: {len(documents)}')\n",
    "\n",
    "text_splitter = RecursiveCharacterTextSplitter(chunk_size = 420, chunk_overlap = 380)\n",
    "docs = text_splitter.split_documents(documents)\n",
    "logging.info(f'docs: {len(docs)}')\n"
   ],
   "metadata": {
    "collapsed": false,
    "ExecuteTime": {
     "start_time": "2024-09-12T07:57:10.315751Z",
     "end_time": "2024-09-12T08:03:44.411422Z"
    }
   }
  },
  {
   "cell_type": "code",
   "execution_count": 30,
   "outputs": [
    {
     "name": "stderr",
     "output_type": "stream",
     "text": [
      "\u001B[32m2024-09-12 08:05:08.746\u001B[0m | \u001B[1mINFO    \u001B[0m | \u001B[36m__main__\u001B[0m:\u001B[36m<module>\u001B[0m:\u001B[36m4\u001B[0m - \u001B[1mfrom: index-full-420\u001B[0m\n"
     ]
    }
   ],
   "source": [
    "index_name = 'index-full-420'\n",
    "\n",
    "logging.info(f'from: {index_name}')\n",
    "docsearch = PL.from_existing_index(index_name, embedding_function)"
   ],
   "metadata": {
    "collapsed": false,
    "ExecuteTime": {
     "start_time": "2024-09-12T08:05:08.747515Z",
     "end_time": "2024-09-12T08:05:09.226684Z"
    }
   }
  },
  {
   "cell_type": "code",
   "execution_count": 7,
   "outputs": [],
   "source": [
    "retriever = docsearch.as_retriever(search_type=\"similarity\",\n",
    "                                   search_kwargs={\"k\": 5})"
   ],
   "metadata": {
    "collapsed": false,
    "ExecuteTime": {
     "start_time": "2024-09-12T07:46:02.822826Z",
     "end_time": "2024-09-12T07:46:02.833834Z"
    }
   }
  },
  {
   "cell_type": "code",
   "execution_count": 429,
   "outputs": [
    {
     "data": {
      "text/plain": "                                            question  \\\n0       Чем закончились бои у Сопоцкина и Друскеник?   \n1  Как помогал бульдог лейтенанту бельгийской арт...   \n2      Источник заражения холеры на Южно-Сахалинске?   \n3    Сколько человек участвовали в боях в Дагестане?   \n4  Новость про российских хакеров, которые взламы...   \n5  *Новость про российских хакеров, которые взлам...   \n\n                                        ground_truth  \n0  Бои у Сопоцкина и Друскеник закончились отступ...  \n1  животных. Лейтенант бельгийской артиллерии, ру...  \n2  холеры. Как сообщает ИТАР-ТАСС со ссылкой на п...  \n3  В МВД России, сообщает ИТАР-ТАСС, имеется подт...  \n4  описал ситуацию следующим образом: \"Мы находим...  \n5  Как полагает Пентагон, массированное наступлен...  ",
      "text/html": "<div>\n<style scoped>\n    .dataframe tbody tr th:only-of-type {\n        vertical-align: middle;\n    }\n\n    .dataframe tbody tr th {\n        vertical-align: top;\n    }\n\n    .dataframe thead th {\n        text-align: right;\n    }\n</style>\n<table border=\"1\" class=\"dataframe\">\n  <thead>\n    <tr style=\"text-align: right;\">\n      <th></th>\n      <th>question</th>\n      <th>ground_truth</th>\n    </tr>\n  </thead>\n  <tbody>\n    <tr>\n      <th>0</th>\n      <td>Чем закончились бои у Сопоцкина и Друскеник?</td>\n      <td>Бои у Сопоцкина и Друскеник закончились отступ...</td>\n    </tr>\n    <tr>\n      <th>1</th>\n      <td>Как помогал бульдог лейтенанту бельгийской арт...</td>\n      <td>животных. Лейтенант бельгийской артиллерии, ру...</td>\n    </tr>\n    <tr>\n      <th>2</th>\n      <td>Источник заражения холеры на Южно-Сахалинске?</td>\n      <td>холеры. Как сообщает ИТАР-ТАСС со ссылкой на п...</td>\n    </tr>\n    <tr>\n      <th>3</th>\n      <td>Сколько человек участвовали в боях в Дагестане?</td>\n      <td>В МВД России, сообщает ИТАР-ТАСС, имеется подт...</td>\n    </tr>\n    <tr>\n      <th>4</th>\n      <td>Новость про российских хакеров, которые взламы...</td>\n      <td>описал ситуацию следующим образом: \"Мы находим...</td>\n    </tr>\n    <tr>\n      <th>5</th>\n      <td>*Новость про российских хакеров, которые взлам...</td>\n      <td>Как полагает Пентагон, массированное наступлен...</td>\n    </tr>\n  </tbody>\n</table>\n</div>"
     },
     "execution_count": 429,
     "metadata": {},
     "output_type": "execute_result"
    }
   ],
   "source": [
    "data_samples = {\n",
    "    'question':\n",
    "        ['Чем закончились бои у Сопоцкина и Друскеник?',\n",
    "         \"Как помогал бульдог лейтенанту бельгийской артиллерии?\",\n",
    "         \"Источник заражения холеры на Южно-Сахалинске?\",\n",
    "         \"Сколько человек участвовали в боях в Дагестане?\",\n",
    "         \"Новость про российских хакеров, которые взламывают Пентагон\",\n",
    "         \"*Новость про российских хакеров, которые взламывают Пентагон\"],  #for test with wrong ground-truth\n",
    "\n",
    "    'ground_truth':\n",
    "        ['Бои у Сопоцкина и Друскеник закончились отступлением германцев. Неприятель, приблизившись с севера к Осовцу начал артиллерийскую борьбу с крепостью. В артиллерийском бою принимают участие тяжелые калибры. С раннего утра 14 сентября огонь достиг значительного напряжения. Попытка германской пехоты пробиться ближе к крепости отражена. В Галиции мы заняли Дембицу. Большая колонна, отступавшая по шоссе от Перемышля к',\n",
    "\n",
    "         'животных. Лейтенант бельгийской артиллерии, руководивший обороной одного из фортов Льежа, ни за что не хотел расстаться с своей собакой — бульдогом. Когда пруссаки пробрались между фортов в самый город, офицеру пришло в голову доверить бульдогу письмо, в котором он посылал успокоительную весть своим родителям. Благородный пес честно исполнил свою миссию. Десять часов спустя бульдог проник обратно в форт и принес',\n",
    "\n",
    "         'холеры. Как сообщает ИТАР-ТАСС со ссылкой на пресс-центр администрации Сахалинской области, в лечебных учреждениях Южно-Сахалинска уже находятсятся 5 горожан, причем у двоих из них болезнь проходит в средне-тяжелой форме. Специалисты Госсанэпиднадзора по Сахалинской области и Хабаровской противочумной станции считают, что возможным источником заражения стала река Хомутовка в военном городке и слабосоленная красная',\n",
    "\n",
    "         'В МВД России, сообщает ИТАР-ТАСС, имеется подтвержденная информация о том, что в боевых действиях в Дагестане принимали активное участие официальные силовые структуры Чеченской республики. Как сообщили в пресс-центре МВД, в боях в Дагестане участвовали около 300 человек из войсковой части №0666 ВС ЧРИ в Гудермесе, которая непосредственно подчиняется президенту Аслану Масхадову. Согласно оперативным данным, 11',\n",
    "\n",
    "         'описал ситуацию следующим образом: \"Мы находимся в состоянии кибер-войны\". Как полагает Пентагон, массированное наступление на компьютеры министерства обороны и министерства энергетики США ведут хакеры из Российской Академии наук, которая связана с военными лабораториями и спонсируется правительством. Как отмечает Newsweek, на сегодняшний день это первый случай сообщения о хакерской войне, которая ведется именно по',\n",
    "\n",
    "         'Как полагает Пентагон, массированное наступление на компьютеры министерства обороны и министерства энергетики США ведут хакеры из Российской Академии наук, которая связана с военными лабораториями и спонсируется правительством. Как отмечает Newsweek, на сегодняшний день это первый случай сообщения о хакерской войне, которая ведется именно по государственному заказу, а не отдельными независимыми хакерами.  По словам']\n",
    "}\n",
    "\n",
    "eval_df = pd.DataFrame(data_samples)\n",
    "eval_df"
   ],
   "metadata": {
    "collapsed": false,
    "ExecuteTime": {
     "start_time": "2024-09-12T12:00:42.294276Z",
     "end_time": "2024-09-12T12:00:42.306261Z"
    }
   }
  },
  {
   "cell_type": "code",
   "execution_count": 430,
   "outputs": [
    {
     "name": "stderr",
     "output_type": "stream",
     "text": [
      "6it [00:02,  2.25it/s]\n"
     ]
    },
    {
     "data": {
      "text/plain": "                                            question  \\\n0       Чем закончились бои у Сопоцкина и Друскеник?   \n1  Как помогал бульдог лейтенанту бельгийской арт...   \n2      Источник заражения холеры на Южно-Сахалинске?   \n3    Сколько человек участвовали в боях в Дагестане?   \n4  Новость про российских хакеров, которые взламы...   \n5  *Новость про российских хакеров, которые взлам...   \n\n                                        ground_truth  \\\n0  Бои у Сопоцкина и Друскеник закончились отступ...   \n1  животных. Лейтенант бельгийской артиллерии, ру...   \n2  холеры. Как сообщает ИТАР-ТАСС со ссылкой на п...   \n3  В МВД России, сообщает ИТАР-ТАСС, имеется подт...   \n4  описал ситуацию следующим образом: \"Мы находим...   \n5  Как полагает Пентагон, массированное наступлен...   \n\n                                    retriever_answer  \n0  [Бои у Сопоцкина и Друскеник закончились отсту...  \n1  [животных. Лейтенант бельгийской артиллерии, р...  \n2  [холеры. Как сообщает ИТАР-ТАСС со ссылкой на ...  \n3  [В МВД России, сообщает ИТАР-ТАСС, имеется под...  \n4  [описал ситуацию следующим образом: \"Мы находи...  \n5  [- срочно сменить пароли на своих машинах. Зам...  ",
      "text/html": "<div>\n<style scoped>\n    .dataframe tbody tr th:only-of-type {\n        vertical-align: middle;\n    }\n\n    .dataframe tbody tr th {\n        vertical-align: top;\n    }\n\n    .dataframe thead th {\n        text-align: right;\n    }\n</style>\n<table border=\"1\" class=\"dataframe\">\n  <thead>\n    <tr style=\"text-align: right;\">\n      <th></th>\n      <th>question</th>\n      <th>ground_truth</th>\n      <th>retriever_answer</th>\n    </tr>\n  </thead>\n  <tbody>\n    <tr>\n      <th>0</th>\n      <td>Чем закончились бои у Сопоцкина и Друскеник?</td>\n      <td>Бои у Сопоцкина и Друскеник закончились отступ...</td>\n      <td>[Бои у Сопоцкина и Друскеник закончились отсту...</td>\n    </tr>\n    <tr>\n      <th>1</th>\n      <td>Как помогал бульдог лейтенанту бельгийской арт...</td>\n      <td>животных. Лейтенант бельгийской артиллерии, ру...</td>\n      <td>[животных. Лейтенант бельгийской артиллерии, р...</td>\n    </tr>\n    <tr>\n      <th>2</th>\n      <td>Источник заражения холеры на Южно-Сахалинске?</td>\n      <td>холеры. Как сообщает ИТАР-ТАСС со ссылкой на п...</td>\n      <td>[холеры. Как сообщает ИТАР-ТАСС со ссылкой на ...</td>\n    </tr>\n    <tr>\n      <th>3</th>\n      <td>Сколько человек участвовали в боях в Дагестане?</td>\n      <td>В МВД России, сообщает ИТАР-ТАСС, имеется подт...</td>\n      <td>[В МВД России, сообщает ИТАР-ТАСС, имеется под...</td>\n    </tr>\n    <tr>\n      <th>4</th>\n      <td>Новость про российских хакеров, которые взламы...</td>\n      <td>описал ситуацию следующим образом: \"Мы находим...</td>\n      <td>[описал ситуацию следующим образом: \"Мы находи...</td>\n    </tr>\n    <tr>\n      <th>5</th>\n      <td>*Новость про российских хакеров, которые взлам...</td>\n      <td>Как полагает Пентагон, массированное наступлен...</td>\n      <td>[- срочно сменить пароли на своих машинах. Зам...</td>\n    </tr>\n  </tbody>\n</table>\n</div>"
     },
     "execution_count": 430,
     "metadata": {},
     "output_type": "execute_result"
    }
   ],
   "source": [
    "def perform_retrieval(df):\n",
    "    for index, row in tqdm(df.iterrows()):\n",
    "        question = row['question']\n",
    "        df.at[index, 'retriever_answer'] = ''\n",
    "        retriever = docsearch.as_retriever(search_type=\"similarity\",\n",
    "                                           search_kwargs={\"k\": 5})\n",
    "        answer = retriever.invoke(question)\n",
    "        answer_list = [a.page_content for a in answer]\n",
    "        df.at[index, 'retriever_answer'] = answer_list\n",
    "    return df\n",
    "\n",
    "eval_df = perform_retrieval(df=eval_df)\n",
    "eval_df"
   ],
   "metadata": {
    "collapsed": false,
    "ExecuteTime": {
     "start_time": "2024-09-12T12:00:43.460288Z",
     "end_time": "2024-09-12T12:00:46.134259Z"
    }
   }
  },
  {
   "cell_type": "markdown",
   "source": [],
   "metadata": {
    "collapsed": false
   }
  },
  {
   "cell_type": "markdown",
   "source": [
    "## Metrics for Evaluation"
   ],
   "metadata": {
    "collapsed": false
   }
  },
  {
   "cell_type": "markdown",
   "source": [
    "**1. Precision@K**\n",
    "--- measures the proportion of relevant instances among the retrieved instances.\n",
    "\n",
    "**2. Recall@K**\n",
    "--- the proportion of relevant items that were successfully recommended or retrieved within the top k items."
   ],
   "metadata": {
    "collapsed": false
   }
  },
  {
   "cell_type": "code",
   "execution_count": 431,
   "outputs": [
    {
     "data": {
      "text/plain": "                                            question  \\\n0       Чем закончились бои у Сопоцкина и Друскеник?   \n1  Как помогал бульдог лейтенанту бельгийской арт...   \n2      Источник заражения холеры на Южно-Сахалинске?   \n3    Сколько человек участвовали в боях в Дагестане?   \n4  Новость про российских хакеров, которые взламы...   \n5  *Новость про российских хакеров, которые взлам...   \n\n                                        ground_truth  \\\n0  Бои у Сопоцкина и Друскеник закончились отступ...   \n1  животных. Лейтенант бельгийской артиллерии, ру...   \n2  холеры. Как сообщает ИТАР-ТАСС со ссылкой на п...   \n3  В МВД России, сообщает ИТАР-ТАСС, имеется подт...   \n4  описал ситуацию следующим образом: \"Мы находим...   \n5  Как полагает Пентагон, массированное наступлен...   \n\n                                    retriever_answer  precision_k1  recall_k1  \\\n0  [Бои у Сопоцкина и Друскеник закончились отсту...           1.0        1.0   \n1  [животных. Лейтенант бельгийской артиллерии, р...           1.0        1.0   \n2  [холеры. Как сообщает ИТАР-ТАСС со ссылкой на ...           1.0        1.0   \n3  [В МВД России, сообщает ИТАР-ТАСС, имеется под...           1.0        1.0   \n4  [описал ситуацию следующим образом: \"Мы находи...           1.0        1.0   \n5  [- срочно сменить пароли на своих машинах. Зам...           0.0        0.0   \n\n   precision_k2  recall_k2  precision_k3  recall_k3  precision_k5  recall_k5  \n0           0.5        1.0          0.33        1.0           0.2        1.0  \n1           0.5        1.0          0.33        1.0           0.2        1.0  \n2           0.5        1.0          0.33        1.0           0.2        1.0  \n3           0.5        1.0          0.33        1.0           0.2        1.0  \n4           0.5        1.0          0.33        1.0           0.2        1.0  \n5           0.0        0.0          0.33        1.0           0.2        1.0  ",
      "text/html": "<div>\n<style scoped>\n    .dataframe tbody tr th:only-of-type {\n        vertical-align: middle;\n    }\n\n    .dataframe tbody tr th {\n        vertical-align: top;\n    }\n\n    .dataframe thead th {\n        text-align: right;\n    }\n</style>\n<table border=\"1\" class=\"dataframe\">\n  <thead>\n    <tr style=\"text-align: right;\">\n      <th></th>\n      <th>question</th>\n      <th>ground_truth</th>\n      <th>retriever_answer</th>\n      <th>precision_k1</th>\n      <th>recall_k1</th>\n      <th>precision_k2</th>\n      <th>recall_k2</th>\n      <th>precision_k3</th>\n      <th>recall_k3</th>\n      <th>precision_k5</th>\n      <th>recall_k5</th>\n    </tr>\n  </thead>\n  <tbody>\n    <tr>\n      <th>0</th>\n      <td>Чем закончились бои у Сопоцкина и Друскеник?</td>\n      <td>Бои у Сопоцкина и Друскеник закончились отступ...</td>\n      <td>[Бои у Сопоцкина и Друскеник закончились отсту...</td>\n      <td>1.0</td>\n      <td>1.0</td>\n      <td>0.5</td>\n      <td>1.0</td>\n      <td>0.33</td>\n      <td>1.0</td>\n      <td>0.2</td>\n      <td>1.0</td>\n    </tr>\n    <tr>\n      <th>1</th>\n      <td>Как помогал бульдог лейтенанту бельгийской арт...</td>\n      <td>животных. Лейтенант бельгийской артиллерии, ру...</td>\n      <td>[животных. Лейтенант бельгийской артиллерии, р...</td>\n      <td>1.0</td>\n      <td>1.0</td>\n      <td>0.5</td>\n      <td>1.0</td>\n      <td>0.33</td>\n      <td>1.0</td>\n      <td>0.2</td>\n      <td>1.0</td>\n    </tr>\n    <tr>\n      <th>2</th>\n      <td>Источник заражения холеры на Южно-Сахалинске?</td>\n      <td>холеры. Как сообщает ИТАР-ТАСС со ссылкой на п...</td>\n      <td>[холеры. Как сообщает ИТАР-ТАСС со ссылкой на ...</td>\n      <td>1.0</td>\n      <td>1.0</td>\n      <td>0.5</td>\n      <td>1.0</td>\n      <td>0.33</td>\n      <td>1.0</td>\n      <td>0.2</td>\n      <td>1.0</td>\n    </tr>\n    <tr>\n      <th>3</th>\n      <td>Сколько человек участвовали в боях в Дагестане?</td>\n      <td>В МВД России, сообщает ИТАР-ТАСС, имеется подт...</td>\n      <td>[В МВД России, сообщает ИТАР-ТАСС, имеется под...</td>\n      <td>1.0</td>\n      <td>1.0</td>\n      <td>0.5</td>\n      <td>1.0</td>\n      <td>0.33</td>\n      <td>1.0</td>\n      <td>0.2</td>\n      <td>1.0</td>\n    </tr>\n    <tr>\n      <th>4</th>\n      <td>Новость про российских хакеров, которые взламы...</td>\n      <td>описал ситуацию следующим образом: \"Мы находим...</td>\n      <td>[описал ситуацию следующим образом: \"Мы находи...</td>\n      <td>1.0</td>\n      <td>1.0</td>\n      <td>0.5</td>\n      <td>1.0</td>\n      <td>0.33</td>\n      <td>1.0</td>\n      <td>0.2</td>\n      <td>1.0</td>\n    </tr>\n    <tr>\n      <th>5</th>\n      <td>*Новость про российских хакеров, которые взлам...</td>\n      <td>Как полагает Пентагон, массированное наступлен...</td>\n      <td>[- срочно сменить пароли на своих машинах. Зам...</td>\n      <td>0.0</td>\n      <td>0.0</td>\n      <td>0.0</td>\n      <td>0.0</td>\n      <td>0.33</td>\n      <td>1.0</td>\n      <td>0.2</td>\n      <td>1.0</td>\n    </tr>\n  </tbody>\n</table>\n</div>"
     },
     "execution_count": 431,
     "metadata": {},
     "output_type": "execute_result"
    }
   ],
   "source": [
    "def precision_at_k(y_true, y_pred, k):\n",
    "    pred = y_pred[:k]\n",
    "    relevant = sum([1 for y in pred if y in y_true])\n",
    "    return round(relevant / len(pred), 2)\n",
    "\n",
    "def recall_at_k(y_true, y_pred, k):\n",
    "    true_set = set([y_true])\n",
    "    pred_set = set(y_pred[:k])\n",
    "    if len(true_set & pred_set) == 0:\n",
    "        return 0\n",
    "    result = round(len(true_set & pred_set) / float(len(true_set)), 2)\n",
    "    return result\n",
    "\n",
    "def calculate_recall(k_list, data):\n",
    "    df = data.copy()\n",
    "    for i in range(len(k_list)):\n",
    "        k = k_list[i]\n",
    "        for index, row in df.iterrows():\n",
    "            act = row['ground_truth']\n",
    "            pred = row['retriever_answer']\n",
    "            column_recall_name = 'recall_k' + str(k)\n",
    "            column_prec_name = 'precision_k' + str(k)\n",
    "            df.at[index, column_prec_name] =  precision_at_k(act, pred, k=k)\n",
    "            df.at[index, column_recall_name] =  recall_at_k(act, pred, k=k)\n",
    "    return df\n",
    "\n",
    "\n",
    "top_k = [1, 2, 3, 5]\n",
    "scores_df = calculate_recall(k_list=top_k, data=eval_df)\n",
    "scores_df"
   ],
   "metadata": {
    "collapsed": false,
    "ExecuteTime": {
     "start_time": "2024-09-12T12:00:46.135259Z",
     "end_time": "2024-09-12T12:00:46.173863Z"
    }
   }
  },
  {
   "cell_type": "code",
   "execution_count": 450,
   "outputs": [
    {
     "data": {
      "text/plain": "['Бои у Сопоцкина и Друскеник закончились отступлением германцев. Неприятель, приблизившись с севера к Осовцу начал артиллерийскую борьбу с крепостью. В артиллерийском бою принимают участие тяжелые калибры. С раннего утра 14 сентября огонь достиг значительного напряжения. Попытка германской пехоты пробиться ближе к крепости отражена. В Галиции мы заняли Дембицу. Большая колонна, отступавшая по шоссе от Перемышля к',\n 'Девятинского переулка проник на территорию посольства.Увидев там машину c оставленными ключами, он попытался ее завести и выехать. Внутренняя охрана - американские морские пехотинцы - произвела несколько предупредительных выстрелов в воздух, но поскольку Тайнаков никак не отреагировал, открыла огонь на поражение. Тяжелораненый Тайнаков был отправлен представителями властей в клинику Склифосовского, где и был',\n '- американские морские пехотинцы - произвела несколько предупредительных выстрелов в воздух, но поскольку Тайнаков никак не отреагировал, открыла огонь на поражение. Тяжелораненый Тайнаков был отправлен представителями властей в клинику Склифосовского, где и был прооперирован. Позже около станции метро \"Краснопресненская\" был задержан пытавшийся скрыться приятель Тайнакова, фамилия которого не сообщается. Он',\n 'c оставленными ключами, он попытался ее завести и выехать. Внутренняя охрана - американские морские пехотинцы - произвела несколько предупредительных выстрелов в воздух, но поскольку Тайнаков никак не отреагировал, открыла огонь на поражение. Тяжелораненый Тайнаков был отправлен представителями властей в клинику Склифосовского, где и был прооперирован. Позже около станции метро \"Краснопресненская\" был задержан',\n 'Это был очень напряженный поединок. Каспаров, игравший черными фигурами, довольно быстро захватил инициативу, предложив в жертву ладью за слона, однако Халифман нашел контрудар, и после 29-ти ходов и почти четырех часов борьбы ничья стала неизбежной. Она была зафиксирована в результате повторения \"шагов\". Каспаров был явно разочарован исходом спора и встал из-за стола, не сказав ни слова ни своему сопернику, ни']"
     },
     "execution_count": 450,
     "metadata": {},
     "output_type": "execute_result"
    }
   ],
   "source": [
    "eval_df.retriever_answer[0]"
   ],
   "metadata": {
    "collapsed": false,
    "ExecuteTime": {
     "start_time": "2024-09-12T14:36:59.515490Z",
     "end_time": "2024-09-12T14:36:59.518389Z"
    }
   }
  },
  {
   "cell_type": "markdown",
   "source": [],
   "metadata": {
    "collapsed": false
   }
  },
  {
   "cell_type": "markdown",
   "source": [
    "**3. Mean Reciprocal Rank (MRR)**\n",
    "---  takes the order of relevant items into consideration. It is particularly focused on the position of the first relevant item in the ranked list of results, providing a more fine-grained evaluation in the context of information retrieval systems."
   ],
   "metadata": {
    "collapsed": false
   }
  },
  {
   "cell_type": "code",
   "execution_count": 432,
   "outputs": [
    {
     "name": "stdout",
     "output_type": "stream",
     "text": [
      "question 1: MRR = 1.0\n",
      "question 2: MRR = 1.0\n",
      "question 3: MRR = 1.0\n",
      "question 4: MRR = 1.0\n",
      "question 5: MRR = 1.0\n",
      "question 6: MRR = 0.333\n"
     ]
    },
    {
     "data": {
      "text/plain": "                                            question  \\\n0       Чем закончились бои у Сопоцкина и Друскеник?   \n1  Как помогал бульдог лейтенанту бельгийской арт...   \n2      Источник заражения холеры на Южно-Сахалинске?   \n3    Сколько человек участвовали в боях в Дагестане?   \n4  Новость про российских хакеров, которые взламы...   \n5  *Новость про российских хакеров, которые взлам...   \n\n                                        ground_truth  \\\n0  Бои у Сопоцкина и Друскеник закончились отступ...   \n1  животных. Лейтенант бельгийской артиллерии, ру...   \n2  холеры. Как сообщает ИТАР-ТАСС со ссылкой на п...   \n3  В МВД России, сообщает ИТАР-ТАСС, имеется подт...   \n4  описал ситуацию следующим образом: \"Мы находим...   \n5  Как полагает Пентагон, массированное наступлен...   \n\n                                    retriever_answer  precision_k1  recall_k1  \\\n0  [Бои у Сопоцкина и Друскеник закончились отсту...           1.0        1.0   \n1  [животных. Лейтенант бельгийской артиллерии, р...           1.0        1.0   \n2  [холеры. Как сообщает ИТАР-ТАСС со ссылкой на ...           1.0        1.0   \n3  [В МВД России, сообщает ИТАР-ТАСС, имеется под...           1.0        1.0   \n4  [описал ситуацию следующим образом: \"Мы находи...           1.0        1.0   \n5  [- срочно сменить пароли на своих машинах. Зам...           0.0        0.0   \n\n   precision_k2  recall_k2  precision_k3  recall_k3  precision_k5  recall_k5  \\\n0           0.5        1.0          0.33        1.0           0.2        1.0   \n1           0.5        1.0          0.33        1.0           0.2        1.0   \n2           0.5        1.0          0.33        1.0           0.2        1.0   \n3           0.5        1.0          0.33        1.0           0.2        1.0   \n4           0.5        1.0          0.33        1.0           0.2        1.0   \n5           0.0        0.0          0.33        1.0           0.2        1.0   \n\n     MRR  \n0  1.000  \n1  1.000  \n2  1.000  \n3  1.000  \n4  1.000  \n5  0.333  ",
      "text/html": "<div>\n<style scoped>\n    .dataframe tbody tr th:only-of-type {\n        vertical-align: middle;\n    }\n\n    .dataframe tbody tr th {\n        vertical-align: top;\n    }\n\n    .dataframe thead th {\n        text-align: right;\n    }\n</style>\n<table border=\"1\" class=\"dataframe\">\n  <thead>\n    <tr style=\"text-align: right;\">\n      <th></th>\n      <th>question</th>\n      <th>ground_truth</th>\n      <th>retriever_answer</th>\n      <th>precision_k1</th>\n      <th>recall_k1</th>\n      <th>precision_k2</th>\n      <th>recall_k2</th>\n      <th>precision_k3</th>\n      <th>recall_k3</th>\n      <th>precision_k5</th>\n      <th>recall_k5</th>\n      <th>MRR</th>\n    </tr>\n  </thead>\n  <tbody>\n    <tr>\n      <th>0</th>\n      <td>Чем закончились бои у Сопоцкина и Друскеник?</td>\n      <td>Бои у Сопоцкина и Друскеник закончились отступ...</td>\n      <td>[Бои у Сопоцкина и Друскеник закончились отсту...</td>\n      <td>1.0</td>\n      <td>1.0</td>\n      <td>0.5</td>\n      <td>1.0</td>\n      <td>0.33</td>\n      <td>1.0</td>\n      <td>0.2</td>\n      <td>1.0</td>\n      <td>1.000</td>\n    </tr>\n    <tr>\n      <th>1</th>\n      <td>Как помогал бульдог лейтенанту бельгийской арт...</td>\n      <td>животных. Лейтенант бельгийской артиллерии, ру...</td>\n      <td>[животных. Лейтенант бельгийской артиллерии, р...</td>\n      <td>1.0</td>\n      <td>1.0</td>\n      <td>0.5</td>\n      <td>1.0</td>\n      <td>0.33</td>\n      <td>1.0</td>\n      <td>0.2</td>\n      <td>1.0</td>\n      <td>1.000</td>\n    </tr>\n    <tr>\n      <th>2</th>\n      <td>Источник заражения холеры на Южно-Сахалинске?</td>\n      <td>холеры. Как сообщает ИТАР-ТАСС со ссылкой на п...</td>\n      <td>[холеры. Как сообщает ИТАР-ТАСС со ссылкой на ...</td>\n      <td>1.0</td>\n      <td>1.0</td>\n      <td>0.5</td>\n      <td>1.0</td>\n      <td>0.33</td>\n      <td>1.0</td>\n      <td>0.2</td>\n      <td>1.0</td>\n      <td>1.000</td>\n    </tr>\n    <tr>\n      <th>3</th>\n      <td>Сколько человек участвовали в боях в Дагестане?</td>\n      <td>В МВД России, сообщает ИТАР-ТАСС, имеется подт...</td>\n      <td>[В МВД России, сообщает ИТАР-ТАСС, имеется под...</td>\n      <td>1.0</td>\n      <td>1.0</td>\n      <td>0.5</td>\n      <td>1.0</td>\n      <td>0.33</td>\n      <td>1.0</td>\n      <td>0.2</td>\n      <td>1.0</td>\n      <td>1.000</td>\n    </tr>\n    <tr>\n      <th>4</th>\n      <td>Новость про российских хакеров, которые взламы...</td>\n      <td>описал ситуацию следующим образом: \"Мы находим...</td>\n      <td>[описал ситуацию следующим образом: \"Мы находи...</td>\n      <td>1.0</td>\n      <td>1.0</td>\n      <td>0.5</td>\n      <td>1.0</td>\n      <td>0.33</td>\n      <td>1.0</td>\n      <td>0.2</td>\n      <td>1.0</td>\n      <td>1.000</td>\n    </tr>\n    <tr>\n      <th>5</th>\n      <td>*Новость про российских хакеров, которые взлам...</td>\n      <td>Как полагает Пентагон, массированное наступлен...</td>\n      <td>[- срочно сменить пароли на своих машинах. Зам...</td>\n      <td>0.0</td>\n      <td>0.0</td>\n      <td>0.0</td>\n      <td>0.0</td>\n      <td>0.33</td>\n      <td>1.0</td>\n      <td>0.2</td>\n      <td>1.0</td>\n      <td>0.333</td>\n    </tr>\n  </tbody>\n</table>\n</div>"
     },
     "execution_count": 432,
     "metadata": {},
     "output_type": "execute_result"
    }
   ],
   "source": [
    "def mean_reciprocal_rank(y_true, y_pred):\n",
    "    def reciprocal_rank(y_true, y_pred):\n",
    "        for i, p in enumerate(y_pred):\n",
    "            if p in y_true:\n",
    "                return 1 / (i + 1)\n",
    "        return 0\n",
    "\n",
    "    rr = [reciprocal_rank(yt, yp) for yt, yp in zip(y_true, y_pred)]\n",
    "    return round(sum(rr) / len(rr), 3)\n",
    "\n",
    "def add_MRR(df):\n",
    "    for index, row in df.iterrows():\n",
    "        act = [row['ground_truth']]\n",
    "        pred = [row['retriever_answer']]\n",
    "        col_name = 'MRR'\n",
    "        mrr_val = mean_reciprocal_rank(act, pred)\n",
    "        df.at[index, col_name] =  mrr_val\n",
    "        print(f'question {index+1}: MRR = {mrr_val}')\n",
    "    return df\n",
    "\n",
    "scores_df = add_MRR(scores_df)\n",
    "scores_df"
   ],
   "metadata": {
    "collapsed": false,
    "ExecuteTime": {
     "start_time": "2024-09-12T12:00:46.222248Z",
     "end_time": "2024-09-12T12:00:46.287660Z"
    }
   }
  },
  {
   "cell_type": "code",
   "execution_count": 433,
   "outputs": [
    {
     "name": "stdout",
     "output_type": "stream",
     "text": [
      "test MRR: 0.0\n",
      "test MRR: 0.5\n"
     ]
    }
   ],
   "source": [
    "# Example usage with the wrong pairs\n",
    "true = [[scores_df.ground_truth[1]]]\n",
    "pred = [scores_df.retriever_answer[2]]\n",
    "print(f'test MRR: {mean_reciprocal_rank(true, pred)}')\n",
    "\n",
    "true = [[scores_df.ground_truth[4]]]\n",
    "pred = [scores_df.retriever_answer[5]]\n",
    "print(f'test MRR: {mean_reciprocal_rank(true, pred)}')"
   ],
   "metadata": {
    "collapsed": false,
    "ExecuteTime": {
     "start_time": "2024-09-12T12:00:47.837728Z",
     "end_time": "2024-09-12T12:00:47.844297Z"
    }
   }
  },
  {
   "cell_type": "markdown",
   "source": [],
   "metadata": {
    "collapsed": false
   }
  },
  {
   "cell_type": "markdown",
   "source": [
    "**4. Mean Average Precision (MAP)**\n",
    "--- is the mean of the Average Precision (AP) scores for a set of queries. AP is the average of precision values at the ranks where relevant documents occur."
   ],
   "metadata": {
    "collapsed": false
   }
  },
  {
   "cell_type": "code",
   "execution_count": 434,
   "outputs": [
    {
     "name": "stdout",
     "output_type": "stream",
     "text": [
      "1: MAP = 1.0\n",
      "2: MAP = 1.0\n",
      "3: MAP = 1.0\n",
      "4: MAP = 1.0\n",
      "5: MAP = 1.0\n",
      "6: MAP = 0.333\n"
     ]
    },
    {
     "data": {
      "text/plain": "                                            question  \\\n0       Чем закончились бои у Сопоцкина и Друскеник?   \n1  Как помогал бульдог лейтенанту бельгийской арт...   \n2      Источник заражения холеры на Южно-Сахалинске?   \n3    Сколько человек участвовали в боях в Дагестане?   \n4  Новость про российских хакеров, которые взламы...   \n5  *Новость про российских хакеров, которые взлам...   \n\n                                        ground_truth  \\\n0  Бои у Сопоцкина и Друскеник закончились отступ...   \n1  животных. Лейтенант бельгийской артиллерии, ру...   \n2  холеры. Как сообщает ИТАР-ТАСС со ссылкой на п...   \n3  В МВД России, сообщает ИТАР-ТАСС, имеется подт...   \n4  описал ситуацию следующим образом: \"Мы находим...   \n5  Как полагает Пентагон, массированное наступлен...   \n\n                                    retriever_answer  precision_k1  recall_k1  \\\n0  [Бои у Сопоцкина и Друскеник закончились отсту...           1.0        1.0   \n1  [животных. Лейтенант бельгийской артиллерии, р...           1.0        1.0   \n2  [холеры. Как сообщает ИТАР-ТАСС со ссылкой на ...           1.0        1.0   \n3  [В МВД России, сообщает ИТАР-ТАСС, имеется под...           1.0        1.0   \n4  [описал ситуацию следующим образом: \"Мы находи...           1.0        1.0   \n5  [- срочно сменить пароли на своих машинах. Зам...           0.0        0.0   \n\n   precision_k2  recall_k2  precision_k3  recall_k3  precision_k5  recall_k5  \\\n0           0.5        1.0          0.33        1.0           0.2        1.0   \n1           0.5        1.0          0.33        1.0           0.2        1.0   \n2           0.5        1.0          0.33        1.0           0.2        1.0   \n3           0.5        1.0          0.33        1.0           0.2        1.0   \n4           0.5        1.0          0.33        1.0           0.2        1.0   \n5           0.0        0.0          0.33        1.0           0.2        1.0   \n\n     MRR    MAP  \n0  1.000  1.000  \n1  1.000  1.000  \n2  1.000  1.000  \n3  1.000  1.000  \n4  1.000  1.000  \n5  0.333  0.333  ",
      "text/html": "<div>\n<style scoped>\n    .dataframe tbody tr th:only-of-type {\n        vertical-align: middle;\n    }\n\n    .dataframe tbody tr th {\n        vertical-align: top;\n    }\n\n    .dataframe thead th {\n        text-align: right;\n    }\n</style>\n<table border=\"1\" class=\"dataframe\">\n  <thead>\n    <tr style=\"text-align: right;\">\n      <th></th>\n      <th>question</th>\n      <th>ground_truth</th>\n      <th>retriever_answer</th>\n      <th>precision_k1</th>\n      <th>recall_k1</th>\n      <th>precision_k2</th>\n      <th>recall_k2</th>\n      <th>precision_k3</th>\n      <th>recall_k3</th>\n      <th>precision_k5</th>\n      <th>recall_k5</th>\n      <th>MRR</th>\n      <th>MAP</th>\n    </tr>\n  </thead>\n  <tbody>\n    <tr>\n      <th>0</th>\n      <td>Чем закончились бои у Сопоцкина и Друскеник?</td>\n      <td>Бои у Сопоцкина и Друскеник закончились отступ...</td>\n      <td>[Бои у Сопоцкина и Друскеник закончились отсту...</td>\n      <td>1.0</td>\n      <td>1.0</td>\n      <td>0.5</td>\n      <td>1.0</td>\n      <td>0.33</td>\n      <td>1.0</td>\n      <td>0.2</td>\n      <td>1.0</td>\n      <td>1.000</td>\n      <td>1.000</td>\n    </tr>\n    <tr>\n      <th>1</th>\n      <td>Как помогал бульдог лейтенанту бельгийской арт...</td>\n      <td>животных. Лейтенант бельгийской артиллерии, ру...</td>\n      <td>[животных. Лейтенант бельгийской артиллерии, р...</td>\n      <td>1.0</td>\n      <td>1.0</td>\n      <td>0.5</td>\n      <td>1.0</td>\n      <td>0.33</td>\n      <td>1.0</td>\n      <td>0.2</td>\n      <td>1.0</td>\n      <td>1.000</td>\n      <td>1.000</td>\n    </tr>\n    <tr>\n      <th>2</th>\n      <td>Источник заражения холеры на Южно-Сахалинске?</td>\n      <td>холеры. Как сообщает ИТАР-ТАСС со ссылкой на п...</td>\n      <td>[холеры. Как сообщает ИТАР-ТАСС со ссылкой на ...</td>\n      <td>1.0</td>\n      <td>1.0</td>\n      <td>0.5</td>\n      <td>1.0</td>\n      <td>0.33</td>\n      <td>1.0</td>\n      <td>0.2</td>\n      <td>1.0</td>\n      <td>1.000</td>\n      <td>1.000</td>\n    </tr>\n    <tr>\n      <th>3</th>\n      <td>Сколько человек участвовали в боях в Дагестане?</td>\n      <td>В МВД России, сообщает ИТАР-ТАСС, имеется подт...</td>\n      <td>[В МВД России, сообщает ИТАР-ТАСС, имеется под...</td>\n      <td>1.0</td>\n      <td>1.0</td>\n      <td>0.5</td>\n      <td>1.0</td>\n      <td>0.33</td>\n      <td>1.0</td>\n      <td>0.2</td>\n      <td>1.0</td>\n      <td>1.000</td>\n      <td>1.000</td>\n    </tr>\n    <tr>\n      <th>4</th>\n      <td>Новость про российских хакеров, которые взламы...</td>\n      <td>описал ситуацию следующим образом: \"Мы находим...</td>\n      <td>[описал ситуацию следующим образом: \"Мы находи...</td>\n      <td>1.0</td>\n      <td>1.0</td>\n      <td>0.5</td>\n      <td>1.0</td>\n      <td>0.33</td>\n      <td>1.0</td>\n      <td>0.2</td>\n      <td>1.0</td>\n      <td>1.000</td>\n      <td>1.000</td>\n    </tr>\n    <tr>\n      <th>5</th>\n      <td>*Новость про российских хакеров, которые взлам...</td>\n      <td>Как полагает Пентагон, массированное наступлен...</td>\n      <td>[- срочно сменить пароли на своих машинах. Зам...</td>\n      <td>0.0</td>\n      <td>0.0</td>\n      <td>0.0</td>\n      <td>0.0</td>\n      <td>0.33</td>\n      <td>1.0</td>\n      <td>0.2</td>\n      <td>1.0</td>\n      <td>0.333</td>\n      <td>0.333</td>\n    </tr>\n  </tbody>\n</table>\n</div>"
     },
     "execution_count": 434,
     "metadata": {},
     "output_type": "execute_result"
    }
   ],
   "source": [
    "def average_precision(y_true, y_pred):\n",
    "    relevant = 0\n",
    "    precisions = []\n",
    "    for i, p in enumerate(y_pred):\n",
    "        if p in y_true:\n",
    "            relevant += 1\n",
    "            precisions.append(relevant / (i + 1))\n",
    "    if not precisions:\n",
    "        return 0\n",
    "    return sum(precisions) / len(y_true)\n",
    "\n",
    "def mean_average_precision(y_true, y_pred):\n",
    "    ap = [average_precision(yt, yp) for yt, yp in zip(y_true, y_pred)]\n",
    "    return round(sum(ap) / len(ap), 3)\n",
    "\n",
    "\n",
    "def add_MAP(df):\n",
    "    for index, row in df.iterrows():\n",
    "        act = [[row['ground_truth']]]\n",
    "        pred = [row['retriever_answer']]\n",
    "        col_name = 'MAP'\n",
    "        map_val = mean_average_precision(act, pred)\n",
    "        df.at[index, col_name] =  map_val\n",
    "        print(f'{index+1}: MAP = {map_val}')\n",
    "    return df\n",
    "\n",
    "scores_df = add_MAP(scores_df)\n",
    "scores_df"
   ],
   "metadata": {
    "collapsed": false,
    "ExecuteTime": {
     "start_time": "2024-09-12T12:00:49.218213Z",
     "end_time": "2024-09-12T12:00:49.233197Z"
    }
   }
  },
  {
   "cell_type": "code",
   "execution_count": 435,
   "outputs": [
    {
     "name": "stdout",
     "output_type": "stream",
     "text": [
      "test MAP: 0.0\n",
      "test MAP: 0.5\n"
     ]
    }
   ],
   "source": [
    "# Example usage with the wrong pairs\n",
    "true = [[scores_df.ground_truth[1]]]\n",
    "pred = [scores_df.retriever_answer[2]]\n",
    "print(f'test MAP: {mean_average_precision(true, pred)}')\n",
    "\n",
    "true = [[scores_df.ground_truth[4]]]\n",
    "pred = [scores_df.retriever_answer[5]]\n",
    "print(f'test MAP: {mean_average_precision(true, pred)}')"
   ],
   "metadata": {
    "collapsed": false,
    "ExecuteTime": {
     "start_time": "2024-09-12T12:00:50.437274Z",
     "end_time": "2024-09-12T12:00:50.445388Z"
    }
   }
  },
  {
   "cell_type": "markdown",
   "source": [],
   "metadata": {
    "collapsed": false
   }
  },
  {
   "cell_type": "markdown",
   "source": [
    "**5. Normalized Discounted Cumulative Gain (NDCG)**\n",
    "--- measures the gain of a document based on its position in the result list, normalized by the ideal DCG."
   ],
   "metadata": {
    "collapsed": false
   }
  },
  {
   "cell_type": "code",
   "execution_count": 436,
   "outputs": [
    {
     "name": "stdout",
     "output_type": "stream",
     "text": [
      "question 1: NDSG@1 = 1.0\n",
      "question 2: NDSG@1 = 1.0\n",
      "question 3: NDSG@1 = 1.0\n",
      "question 4: NDSG@1 = 1.0\n",
      "question 5: NDSG@1 = 1.0\n",
      "question 6: NDSG@1 = 0.0\n",
      "question 1: NDSG@2 = 1.0\n",
      "question 2: NDSG@2 = 1.0\n",
      "question 3: NDSG@2 = 1.0\n",
      "question 4: NDSG@2 = 1.0\n",
      "question 5: NDSG@2 = 1.0\n",
      "question 6: NDSG@2 = 0.0\n",
      "question 1: NDSG@3 = 1.0\n",
      "question 2: NDSG@3 = 1.0\n",
      "question 3: NDSG@3 = 1.0\n",
      "question 4: NDSG@3 = 1.0\n",
      "question 5: NDSG@3 = 1.0\n",
      "question 6: NDSG@3 = 0.5\n",
      "question 1: NDSG@5 = 1.0\n",
      "question 2: NDSG@5 = 1.0\n",
      "question 3: NDSG@5 = 1.0\n",
      "question 4: NDSG@5 = 1.0\n",
      "question 5: NDSG@5 = 1.0\n",
      "question 6: NDSG@5 = 0.5\n"
     ]
    },
    {
     "data": {
      "text/plain": "                                            question  \\\n0       Чем закончились бои у Сопоцкина и Друскеник?   \n1  Как помогал бульдог лейтенанту бельгийской арт...   \n2      Источник заражения холеры на Южно-Сахалинске?   \n3    Сколько человек участвовали в боях в Дагестане?   \n4  Новость про российских хакеров, которые взламы...   \n5  *Новость про российских хакеров, которые взлам...   \n\n                                        ground_truth  \\\n0  Бои у Сопоцкина и Друскеник закончились отступ...   \n1  животных. Лейтенант бельгийской артиллерии, ру...   \n2  холеры. Как сообщает ИТАР-ТАСС со ссылкой на п...   \n3  В МВД России, сообщает ИТАР-ТАСС, имеется подт...   \n4  описал ситуацию следующим образом: \"Мы находим...   \n5  Как полагает Пентагон, массированное наступлен...   \n\n                                    retriever_answer  precision_k1  recall_k1  \\\n0  [Бои у Сопоцкина и Друскеник закончились отсту...           1.0        1.0   \n1  [животных. Лейтенант бельгийской артиллерии, р...           1.0        1.0   \n2  [холеры. Как сообщает ИТАР-ТАСС со ссылкой на ...           1.0        1.0   \n3  [В МВД России, сообщает ИТАР-ТАСС, имеется под...           1.0        1.0   \n4  [описал ситуацию следующим образом: \"Мы находи...           1.0        1.0   \n5  [- срочно сменить пароли на своих машинах. Зам...           0.0        0.0   \n\n   precision_k2  recall_k2  precision_k3  recall_k3  precision_k5  recall_k5  \\\n0           0.5        1.0          0.33        1.0           0.2        1.0   \n1           0.5        1.0          0.33        1.0           0.2        1.0   \n2           0.5        1.0          0.33        1.0           0.2        1.0   \n3           0.5        1.0          0.33        1.0           0.2        1.0   \n4           0.5        1.0          0.33        1.0           0.2        1.0   \n5           0.0        0.0          0.33        1.0           0.2        1.0   \n\n     MRR    MAP  NDSG@1  NDSG@2  NDSG@3  NDSG@5  \n0  1.000  1.000     1.0     1.0     1.0     1.0  \n1  1.000  1.000     1.0     1.0     1.0     1.0  \n2  1.000  1.000     1.0     1.0     1.0     1.0  \n3  1.000  1.000     1.0     1.0     1.0     1.0  \n4  1.000  1.000     1.0     1.0     1.0     1.0  \n5  0.333  0.333     0.0     0.0     0.5     0.5  ",
      "text/html": "<div>\n<style scoped>\n    .dataframe tbody tr th:only-of-type {\n        vertical-align: middle;\n    }\n\n    .dataframe tbody tr th {\n        vertical-align: top;\n    }\n\n    .dataframe thead th {\n        text-align: right;\n    }\n</style>\n<table border=\"1\" class=\"dataframe\">\n  <thead>\n    <tr style=\"text-align: right;\">\n      <th></th>\n      <th>question</th>\n      <th>ground_truth</th>\n      <th>retriever_answer</th>\n      <th>precision_k1</th>\n      <th>recall_k1</th>\n      <th>precision_k2</th>\n      <th>recall_k2</th>\n      <th>precision_k3</th>\n      <th>recall_k3</th>\n      <th>precision_k5</th>\n      <th>recall_k5</th>\n      <th>MRR</th>\n      <th>MAP</th>\n      <th>NDSG@1</th>\n      <th>NDSG@2</th>\n      <th>NDSG@3</th>\n      <th>NDSG@5</th>\n    </tr>\n  </thead>\n  <tbody>\n    <tr>\n      <th>0</th>\n      <td>Чем закончились бои у Сопоцкина и Друскеник?</td>\n      <td>Бои у Сопоцкина и Друскеник закончились отступ...</td>\n      <td>[Бои у Сопоцкина и Друскеник закончились отсту...</td>\n      <td>1.0</td>\n      <td>1.0</td>\n      <td>0.5</td>\n      <td>1.0</td>\n      <td>0.33</td>\n      <td>1.0</td>\n      <td>0.2</td>\n      <td>1.0</td>\n      <td>1.000</td>\n      <td>1.000</td>\n      <td>1.0</td>\n      <td>1.0</td>\n      <td>1.0</td>\n      <td>1.0</td>\n    </tr>\n    <tr>\n      <th>1</th>\n      <td>Как помогал бульдог лейтенанту бельгийской арт...</td>\n      <td>животных. Лейтенант бельгийской артиллерии, ру...</td>\n      <td>[животных. Лейтенант бельгийской артиллерии, р...</td>\n      <td>1.0</td>\n      <td>1.0</td>\n      <td>0.5</td>\n      <td>1.0</td>\n      <td>0.33</td>\n      <td>1.0</td>\n      <td>0.2</td>\n      <td>1.0</td>\n      <td>1.000</td>\n      <td>1.000</td>\n      <td>1.0</td>\n      <td>1.0</td>\n      <td>1.0</td>\n      <td>1.0</td>\n    </tr>\n    <tr>\n      <th>2</th>\n      <td>Источник заражения холеры на Южно-Сахалинске?</td>\n      <td>холеры. Как сообщает ИТАР-ТАСС со ссылкой на п...</td>\n      <td>[холеры. Как сообщает ИТАР-ТАСС со ссылкой на ...</td>\n      <td>1.0</td>\n      <td>1.0</td>\n      <td>0.5</td>\n      <td>1.0</td>\n      <td>0.33</td>\n      <td>1.0</td>\n      <td>0.2</td>\n      <td>1.0</td>\n      <td>1.000</td>\n      <td>1.000</td>\n      <td>1.0</td>\n      <td>1.0</td>\n      <td>1.0</td>\n      <td>1.0</td>\n    </tr>\n    <tr>\n      <th>3</th>\n      <td>Сколько человек участвовали в боях в Дагестане?</td>\n      <td>В МВД России, сообщает ИТАР-ТАСС, имеется подт...</td>\n      <td>[В МВД России, сообщает ИТАР-ТАСС, имеется под...</td>\n      <td>1.0</td>\n      <td>1.0</td>\n      <td>0.5</td>\n      <td>1.0</td>\n      <td>0.33</td>\n      <td>1.0</td>\n      <td>0.2</td>\n      <td>1.0</td>\n      <td>1.000</td>\n      <td>1.000</td>\n      <td>1.0</td>\n      <td>1.0</td>\n      <td>1.0</td>\n      <td>1.0</td>\n    </tr>\n    <tr>\n      <th>4</th>\n      <td>Новость про российских хакеров, которые взламы...</td>\n      <td>описал ситуацию следующим образом: \"Мы находим...</td>\n      <td>[описал ситуацию следующим образом: \"Мы находи...</td>\n      <td>1.0</td>\n      <td>1.0</td>\n      <td>0.5</td>\n      <td>1.0</td>\n      <td>0.33</td>\n      <td>1.0</td>\n      <td>0.2</td>\n      <td>1.0</td>\n      <td>1.000</td>\n      <td>1.000</td>\n      <td>1.0</td>\n      <td>1.0</td>\n      <td>1.0</td>\n      <td>1.0</td>\n    </tr>\n    <tr>\n      <th>5</th>\n      <td>*Новость про российских хакеров, которые взлам...</td>\n      <td>Как полагает Пентагон, массированное наступлен...</td>\n      <td>[- срочно сменить пароли на своих машинах. Зам...</td>\n      <td>0.0</td>\n      <td>0.0</td>\n      <td>0.0</td>\n      <td>0.0</td>\n      <td>0.33</td>\n      <td>1.0</td>\n      <td>0.2</td>\n      <td>1.0</td>\n      <td>0.333</td>\n      <td>0.333</td>\n      <td>0.0</td>\n      <td>0.0</td>\n      <td>0.5</td>\n      <td>0.5</td>\n    </tr>\n  </tbody>\n</table>\n</div>"
     },
     "execution_count": 436,
     "metadata": {},
     "output_type": "execute_result"
    }
   ],
   "source": [
    "def dcg_at_k(y_true, y_pred, k):\n",
    "    y_pred = y_pred[:k]\n",
    "    gain = 0\n",
    "    for i, p in enumerate(y_pred):\n",
    "        if p in y_true:\n",
    "            gain += 1 / np.log2(i + 2)\n",
    "    return gain\n",
    "\n",
    "def ndcg_at_k(y_true, y_pred, k):\n",
    "    ideal_dcg = dcg_at_k(y_true, y_true, k)\n",
    "    actual_dcg = dcg_at_k(y_true, y_pred, k)\n",
    "    return actual_dcg / ideal_dcg if ideal_dcg > 0 else 0\n",
    "\n",
    "def add_ndcg(k_list, df):\n",
    "    for i in range(len(k_list)):\n",
    "        k = k_list[i]\n",
    "        for index, row in df.iterrows():\n",
    "            act = [row['ground_truth']]\n",
    "            pred = row['retriever_answer']\n",
    "            col_name = 'NDSG@' + str(k)\n",
    "            ndcg_val = ndcg_at_k(act, pred, k)\n",
    "            df.at[index, col_name] =  ndcg_val\n",
    "            print(f'question {index+1}: {col_name} = {ndcg_val}')\n",
    "    return df\n",
    "\n",
    "top_k = [1, 2, 3, 5]\n",
    "scores_df = add_ndcg(top_k, scores_df)\n",
    "scores_df"
   ],
   "metadata": {
    "collapsed": false,
    "ExecuteTime": {
     "start_time": "2024-09-12T12:00:51.622495Z",
     "end_time": "2024-09-12T12:00:51.639807Z"
    }
   }
  },
  {
   "cell_type": "code",
   "execution_count": 437,
   "outputs": [
    {
     "name": "stdout",
     "output_type": "stream",
     "text": [
      "test NDCG@1: 1.0\n",
      "test NDCG@2: 0.6131471927654584\n",
      "test NDCG@3: 0.46927872602275644\n",
      "test NDCG@5: 0.46927872602275644\n"
     ]
    }
   ],
   "source": [
    "# Example usage with several ground-truth answers\n",
    "y_true =  [scores_df.ground_truth[4]] + [scores_df.ground_truth[0]] + [scores_df.ground_truth[2]]\n",
    "y_pred = scores_df.retriever_answer[2]\n",
    "\n",
    "for n in top_k:\n",
    "    print(f'test NDCG@{n}: {ndcg_at_k(y_true, y_pred, k=n)}')"
   ],
   "metadata": {
    "collapsed": false,
    "ExecuteTime": {
     "start_time": "2024-09-12T12:00:52.839276Z",
     "end_time": "2024-09-12T12:00:52.857831Z"
    }
   }
  },
  {
   "cell_type": "code",
   "execution_count": null,
   "outputs": [],
   "source": [],
   "metadata": {
    "collapsed": false
   }
  }
 ],
 "metadata": {
  "kernelspec": {
   "display_name": "Python 3",
   "language": "python",
   "name": "python3"
  },
  "language_info": {
   "codemirror_mode": {
    "name": "ipython",
    "version": 2
   },
   "file_extension": ".py",
   "mimetype": "text/x-python",
   "name": "python",
   "nbconvert_exporter": "python",
   "pygments_lexer": "ipython2",
   "version": "2.7.6"
  }
 },
 "nbformat": 4,
 "nbformat_minor": 0
}
