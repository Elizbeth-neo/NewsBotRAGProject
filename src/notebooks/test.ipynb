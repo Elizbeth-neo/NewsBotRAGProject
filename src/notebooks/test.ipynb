{
 "cells": [
  {
   "cell_type": "code",
   "execution_count": 14,
   "outputs": [
    {
     "name": "stdout",
     "output_type": "stream",
     "text": [
      "True\n",
      "0\n",
      "NVIDIA GeForce RTX 3070 Laptop GPU\n"
     ]
    }
   ],
   "source": [
    "import chromadb\n",
    "import torch\n",
    "print(torch.cuda.is_available())  # Should be True if CUDA is available\n",
    "print(torch.cuda.current_device())  # Print the index of the current GPU\n",
    "print(torch.cuda.get_device_name(0))  # Print the name of the GPU"
   ],
   "metadata": {
    "collapsed": false,
    "ExecuteTime": {
     "start_time": "2024-09-11T14:47:45.384556Z",
     "end_time": "2024-09-11T14:47:46.508459Z"
    }
   }
  },
  {
   "cell_type": "code",
   "execution_count": 15,
   "outputs": [
    {
     "data": {
      "text/plain": "True"
     },
     "execution_count": 15,
     "metadata": {},
     "output_type": "execute_result"
    }
   ],
   "source": [
    "import torch\n",
    "import pandas as pd\n",
    "from langchain.text_splitter import RecursiveCharacterTextSplitter\n",
    "from langchain.document_loaders import DataFrameLoader\n",
    "from langchain_community.embeddings import HuggingFaceBgeEmbeddings\n",
    "from langchain_community.vectorstores import FAISS\n",
    "from langchain.chains import ConversationalRetrievalChain\n",
    "import os\n",
    "from pinecone import Pinecone, ServerlessSpec\n",
    "from langchain.vectorstores import Pinecone as PL\n",
    "from langchain_community.llms import Ollama\n",
    "from langchain.prompts import PromptTemplate\n",
    "\n",
    "from loguru import logger as logging\n",
    "\n",
    "from dotenv import load_dotenv\n",
    "load_dotenv()"
   ],
   "metadata": {
    "collapsed": false,
    "ExecuteTime": {
     "start_time": "2024-09-11T14:47:46.510464Z",
     "end_time": "2024-09-11T14:47:46.517922Z"
    }
   }
  },
  {
   "cell_type": "code",
   "execution_count": 16,
   "outputs": [],
   "source": [
    "model_name = \"BAAI/bge-m3\"\n",
    "\n",
    "embedding_function = HuggingFaceBgeEmbeddings(\n",
    "    model_name=model_name,\n",
    "    model_kwargs={'device': 'cuda'},\n",
    "    encode_kwargs={'normalize_embeddings': True}\n",
    ")"
   ],
   "metadata": {
    "collapsed": false,
    "ExecuteTime": {
     "start_time": "2024-09-11T14:47:47.155010Z",
     "end_time": "2024-09-11T14:47:51.402704Z"
    }
   }
  },
  {
   "cell_type": "code",
   "execution_count": 18,
   "outputs": [
    {
     "data": {
      "text/plain": "800975"
     },
     "execution_count": 18,
     "metadata": {},
     "output_type": "execute_result"
    }
   ],
   "source": [
    "news_df = pd.read_csv('../../lenta-ru-news.csv')\n",
    "loader = DataFrameLoader(news_df, page_content_column='text')\n",
    "documents = loader.load()\n",
    "len(news_df)"
   ],
   "metadata": {
    "collapsed": false,
    "ExecuteTime": {
     "start_time": "2024-09-11T14:49:05.584148Z",
     "end_time": "2024-09-11T14:49:05.587693Z"
    }
   }
  },
  {
   "cell_type": "code",
   "execution_count": 22,
   "outputs": [
    {
     "data": {
      "text/plain": "19296165"
     },
     "execution_count": 22,
     "metadata": {},
     "output_type": "execute_result"
    }
   ],
   "source": [
    "text_splitter = RecursiveCharacterTextSplitter(chunk_size = 420, chunk_overlap = 380)\n",
    "docs = text_splitter.split_documents(documents)\n",
    "len(docs)"
   ],
   "metadata": {
    "collapsed": false,
    "ExecuteTime": {
     "start_time": "2024-09-11T15:10:51.937823Z",
     "end_time": "2024-09-11T15:17:06.050388Z"
    }
   }
  },
  {
   "cell_type": "code",
   "execution_count": null,
   "outputs": [],
   "source": [
    "def load_and_prepare_documents():\n",
    "    news_df = pd.read_csv('../lenta-ru-news.csv')\n",
    "    loader = DataFrameLoader(news_df, page_content_column='text')\n",
    "    documents = loader.load()\n",
    "    text_splitter = RecursiveCharacterTextSplitter(chunk_size = 420, chunk_overlap = 380)\n",
    "    docs = text_splitter.split_documents(documents)\n",
    "    return docs\n",
    "\n",
    "pc = Pinecone(\n",
    "    api_key=os.environ.get(\"PINECONE_API_KEY\")\n",
    ")\n",
    "index_name = os.getenv('PINECONE_API_INDEX_NAME')\n",
    "logging.info(f'Current index name: {index_name}')\n",
    "\n",
    "\n",
    "if index_name not in pc.list_indexes().names():\n",
    "    logging.info(f'Creating new indexes')\n",
    "    docs = load_and_prepare_documents()\n",
    "    pc.create_index(\n",
    "        name=index_name,\n",
    "        dimension=1024,\n",
    "        metric='cosine',\n",
    "        spec=ServerlessSpec(\n",
    "            cloud=os.getenv('PINECONE_API_CLOUD'),\n",
    "            region=os.getenv('PINECONE_API_ENV')\n",
    "        )\n",
    "    )\n",
    "    docsearch = PL.from_documents(docs, embedding_function, index_name)\n",
    "else:\n",
    "    logging.info(f'Importing indexes from Pinecone index \"{index_name}\"')\n",
    "    docsearch = PL.from_existing_index(index_name, embedding_function)"
   ],
   "metadata": {
    "collapsed": false
   }
  },
  {
   "cell_type": "code",
   "execution_count": 7,
   "outputs": [
    {
     "name": "stderr",
     "output_type": "stream",
     "text": [
      "\u001B[32m2024-09-11 10:11:29.371\u001B[0m | \u001B[1mINFO    \u001B[0m | \u001B[36m__main__\u001B[0m:\u001B[36m<module>\u001B[0m:\u001B[36m7\u001B[0m - \u001B[1musing cuda\u001B[0m\n"
     ]
    }
   ],
   "source": [
    "llm = Ollama(\n",
    "    model=\"llama3.1\",\n",
    "    base_url=\"http://localhost:11434\",\n",
    "    verbose=True,\n",
    ")\n",
    "device = 'cuda' if torch.cuda.is_available() else 'cpu'\n",
    "logging.info(f\"using {device}\")"
   ],
   "metadata": {
    "collapsed": false,
    "ExecuteTime": {
     "start_time": "2024-09-11T10:11:29.371873Z",
     "end_time": "2024-09-11T10:11:29.377565Z"
    }
   }
  },
  {
   "cell_type": "code",
   "execution_count": 10,
   "outputs": [],
   "source": [
    "def inference(question: str):\n",
    "\n",
    "    template = \"\"\"\n",
    "    You are a Russian-speaking news correspondent. People will ask you questions about the news.\n",
    "    Use the following pieces of context to answer the question at the end. Please follow the following rules:\n",
    "    1. If you don't know the answer, don't try to make up an answer. Just say \"I can't find the final answer but you may want to check the following links\".\n",
    "    2. If you find the answer, write the answer in a concise way with five sentences maximum.\n",
    "    3. Give the answer on Russian.\n",
    "    4. Keep a formal communication style\n",
    "\n",
    "    Context: {context}\n",
    "    Question: {question}\n",
    "    Answer:\n",
    "    \"\"\"\n",
    "\n",
    "    prompt = PromptTemplate(\n",
    "        template=template,\n",
    "        input_variables=[\"context\", \"question\"]\n",
    "    )\n",
    "\n",
    "    conversation = ConversationalRetrievalChain.from_llm(\n",
    "        llm,\n",
    "        retriever=docsearch.as_retriever(search_type=\"similarity\", search_kwargs={\"k\": 5}),\n",
    "        return_source_documents=True,\n",
    "        verbose=True,\n",
    "        combine_docs_chain_kwargs={\"prompt\": prompt}\n",
    "    )\n",
    "\n",
    "    chat_history = []\n",
    "    response = conversation({\"question\": question, \"chat_history\": chat_history})\n",
    "\n",
    "    return response, chat_history\n"
   ],
   "metadata": {
    "collapsed": false,
    "ExecuteTime": {
     "start_time": "2024-09-11T10:24:31.986760Z",
     "end_time": "2024-09-11T10:24:31.991765Z"
    }
   }
  },
  {
   "cell_type": "code",
   "execution_count": 13,
   "outputs": [
    {
     "name": "stdout",
     "output_type": "stream",
     "text": [
      "\n",
      "\n",
      "\u001B[1m> Entering new StuffDocumentsChain chain...\u001B[0m\n",
      "\n",
      "\n",
      "\u001B[1m> Entering new LLMChain chain...\u001B[0m\n",
      "Prompt after formatting:\n",
      "\u001B[32;1m\u001B[1;3m\n",
      "    You are a Russian-speaking news correspondent. People will ask you questions about the news.\n",
      "    Use the following pieces of context to answer the question at the end. Please follow the following rules:\n",
      "    1. If you don't know the answer, don't try to make up an answer. Just say \"I can't find the final answer but you may want to check the following links\".\n",
      "    2. If you find the answer, write the answer in a concise way with five sentences maximum.\n",
      "    3. Give the answer on Russian.\n",
      "    4. Keep a formal communication style\n",
      "\n",
      "    Context: Около двух часов ночи с понедельника на вторник в жилой квартире на первом этаже дома 117 корпус 1 по Московскому проспекту в Петербурге возник пожар. Как сообщили РИА \"Новости\" со ссылкой на пресс-службу Главного управления государственной противопожарной службы МВД РФ, находившиеся в квартире двое мужчин и три женщины погибли, скорее всего, из-за отравления дымом. Огонь захватил площадь в 20 квадратных метров в кухне и коридоре. По информации ИТАР-ТАСС, тушением занимались 2 пожарных расчета. Через час огонь был локализован. На место прибыли три бригады \"скорой помощи\". Из горящей квартиры удалось выбраться только ее хозяйке. Причины пожара пока не установлены, отметили в пресс-службе МВД. По предварительным результатам расследования, пожар произошел из-за неосторожного обращения с огнем подвыпивших обитателей квартиры.\n",
      "\n",
      "ИТАР-ТАСС сообщает из Санкт-Петербурга, что в четверг в 23:13 в девятиэтажном доме номер 15 на Двинской улице, в районе Морского порта, произошел взрыв. Двое жильцов погибли. На восьмом и шестом этажах здания вспыхнул пожар. На месте взрыва возникло сильное задымление. По словам первого заместителя начальника ГУВД Петербурга, начальникакриминальной милиции города Николая Егорова, \"существует три версии взрыва -хулиганство, умышленное уничтожение имущества и криминальнаяразборка\". Николай Егоров указал, что третья версия, по всейвидимости, ошибочная, поскольку на 7-м этаже, где произошелвзрыв, проживают в основном пенсионеры. На лестничной площадке седьмого этажа сработало взрывное устройство мощностью 4-5 килограммов тротила, - об этом сообщилначальник районного отделения милиции Александр Каптурович.По егословам, сильный пожар произошел оттого, что в соседней квартирехранилось несколько канистр с бензином. Каким образом взрывноеустройство оказалось в подъезде, пока неизвестно. Как доложил руководитель противопожарной службы города,сигнал о взрыве поступил на пульт дежурного в четверг в 23 часа13 минут. Уже через 6 минут пожарные наряды были на месте. 18человек из трех квартир 7-го этажа были эвакуированы при помощивыдвижных пожарных лестниц. Через полчаса пожар быллокализован. Двое погибших - пожилые супруги Полищук - пыталисьспастись до прибытия пожарных, спускаясь на простынях, исорвались. Четыре человека - две пожилые женщины, 23-летниймужчина и 5-летняя  девочка -  госпитализированы с ожогами иотравлением угарным  газом. Полностью выгорели 4 квартиры. Втушении пожара принимали участие 22 спецмашины. Николай Егоров сообщил также, что одна из версий,связанная с возможным покушением на редактора одной изпетербургских газет, занимавшегося предвыборной агитацией, неподтвердилась. По его словам, в одной из квартир этого домадействительно прописан редактор газеты \"Метро\". Но он сообщилправоохранительным органам, что его газета не печаталакаких-либо материалов, \"способных привести к такому финалу\". По последней информации, в милицию позвонил 29-летний бизнесмен, также проживающий в этом подъезде, и сообщил, что возможно, теракт был направлен против него.\n",
      "\n",
      "Взрыв, эквивалентный 50 граммам тротила, произошелсегодня в 5.45 по московскому времени у фасада одного из магазиновпродовольственного комплекса на проспекте Ветеранов вКрасносельском районе Санкт-Петербурга. В пресс-центре местногоуправления ГОЧС корреспонденту ИТАР-ТАСС сообщили, что врезультате взрыва образовалась небольшая выемка, разбитовитринное стекло. Пострадавших нет. На месте происшествия работают сотрудники МЧС, ФСБ,патрульно-постовой службы, 42-го отделения милиции. Задержанподозреваемый в совершении взрыва.\n",
      "\n",
      "Как сообщила телекомпания НТВ, 23 сентября около 15:50 по местному времени оперативному дежурному ГУВД Санкт-Петербурга поступила информация о взрыве в жилом доме на Васильевском острове. Адрес дома - Железноводская улица, 68. Утверждается, что взрыв произошел на лестничной клетке у лифта. Подробностей о причинах взрыва и характере повреждений пока не сообщается. По информации агентства ИТАР-ТАСС, взрыв произошел в 15:16 и к месту происшествия выехали сотрудники МЧС. Со ссылкой на главное управление по делам ГОЧС Санкт-Петербурга агентство сообщает, что жертв, разрушений и пожаров взрыв на Васильевской не причинил. \n",
      "Место происшествия - карта В.У. Сидыганова\n",
      "\n",
      "В Москве, на шоссе Энтузиастов, в районе дома №40, на территории опытно-промышленного завода нефтепродуктов примерно в 2 часа ночи по московскому времени произошел пожар. Как сообщили \"Интерфаксу\" источники в правоохранительных органах, из одного из резервуаров с бензином объемом 400 кубических метров при очистке емкости произошла утечка топлива. Топливо разлилось на площади около 100 квадратных метров. Пары бензина воспламенились и произошли несколько взрывов. В результате загорелись три резервуара с бензином, в которых в общей сложности было боле 280 тонн топлива. В тушении этого пожара, отнесенного к третьей категории сложности, принимали участие до 40 автомобилей пожарной охраны, спасатели поисково-спасательных отрядов главного управления по делам ГО и ЧС Москвы, бригады Центра экстренной медицинской помощи, сотрудники милиции. Пожарным удалось быстро сбить пламя и предотвратить дальнейшее распространение огня. Примерно через час пожар был  ликвидирован. Тем не менее, по словам пожарных, еще несколько часов придется потратить на охлаждение резервуаров, чтобы не допустить их повторного возгорания. Имеются двое пострадавших, один из которых с ожогами 40% поверхности тела (по сведениям РИА \"Новости\" - до 60%) госпитализирован в 36 городскую больницу.\n",
      "    Question: Расскажи новость про пожар в Санкт-Петербурге\n",
      "    Answer:\n",
      "    \u001B[0m\n",
      "\n",
      "\u001B[1m> Finished chain.\u001B[0m\n",
      "\n",
      "\u001B[1m> Finished chain.\u001B[0m\n"
     ]
    },
    {
     "data": {
      "text/plain": "'Здесь новость о пожаре в Санкт-Петербурге:\\n\\nВо вторник утром на Московском проспекте в Санкт-Петербурге произошел пожар в жилой квартире. Погибли двое мужчин и три женщины, скорее всего, из-за отравления дымом. Огонь захватил площадь 20 квадратных метров в кухне и коридоре. Тушением занимались пожарные.'"
     },
     "execution_count": 13,
     "metadata": {},
     "output_type": "execute_result"
    }
   ],
   "source": [
    "question = \"Расскажи новость про пожар в Санкт-Петербурге\"\n",
    "\n",
    "response, _ = inference(question)\n",
    "response['answer']"
   ],
   "metadata": {
    "collapsed": false,
    "ExecuteTime": {
     "start_time": "2024-09-11T10:38:59.891575Z",
     "end_time": "2024-09-11T10:39:47.119700Z"
    }
   }
  },
  {
   "cell_type": "code",
   "execution_count": 57,
   "outputs": [
    {
     "data": {
      "text/plain": "[Document(metadata={'date': '1999/09/21', 'tags': 'Все', 'title': 'Пять человек погибли при пожаре в\\xa0Петербурге', 'topic': 'Россия', 'url': 'https://lenta.ru/news/1999/09/21/spb_fire/'}, page_content='Около двух часов ночи с понедельника на вторник в жилой квартире на первом этаже дома 117 корпус 1 по Московскому проспекту в Петербурге возник пожар. Как сообщили РИА \"Новости\" со ссылкой на пресс-службу Главного управления государственной противопожарной службы МВД РФ, находившиеся в квартире двое мужчин и три женщины погибли, скорее всего, из-за отравления дымом. Огонь захватил площадь в 20 квадратных метров в кухне и коридоре. По информации ИТАР-ТАСС, тушением занимались 2 пожарных расчета. Через час огонь был локализован. На место прибыли три бригады \"скорой помощи\". Из горящей квартиры удалось выбраться только ее хозяйке. Причины пожара пока не установлены, отметили в пресс-службе МВД. По предварительным результатам расследования, пожар произошел из-за неосторожного обращения с огнем подвыпивших обитателей квартиры.'),\n Document(metadata={'date': '1999/09/17', 'tags': 'Все', 'title': 'Взрыв дома в\\xa0Петербурге не\\xa0имеет отношения к\\xa0последним терактам', 'topic': 'Россия', 'url': 'https://lenta.ru/news/1999/09/17/vzryv_spb/'}, page_content='ИТАР-ТАСС сообщает из Санкт-Петербурга, что в четверг в 23:13 в девятиэтажном доме номер 15 на Двинской улице, в районе Морского порта, произошел взрыв. Двое жильцов погибли. На восьмом и шестом этажах здания вспыхнул пожар. На месте взрыва возникло сильное задымление. По словам первого заместителя начальника ГУВД Петербурга, начальникакриминальной милиции города Николая Егорова, \"существует три версии взрыва -хулиганство, умышленное уничтожение имущества и криминальнаяразборка\". Николай Егоров указал, что третья версия, по всейвидимости, ошибочная, поскольку на 7-м этаже, где произошелвзрыв, проживают в основном пенсионеры. На лестничной площадке седьмого этажа сработало взрывное устройство мощностью 4-5 килограммов тротила, - об этом сообщилначальник районного отделения милиции Александр Каптурович.По егословам, сильный пожар произошел оттого, что в соседней квартирехранилось несколько канистр с бензином. Каким образом взрывноеустройство оказалось в подъезде, пока неизвестно. Как доложил руководитель противопожарной службы города,сигнал о взрыве поступил на пульт дежурного в четверг в 23 часа13 минут. Уже через 6 минут пожарные наряды были на месте. 18человек из трех квартир 7-го этажа были эвакуированы при помощивыдвижных пожарных лестниц. Через полчаса пожар быллокализован. Двое погибших - пожилые супруги Полищук - пыталисьспастись до прибытия пожарных, спускаясь на простынях, исорвались. Четыре человека - две пожилые женщины, 23-летниймужчина и 5-летняя  девочка -  госпитализированы с ожогами иотравлением угарным  газом. Полностью выгорели 4 квартиры. Втушении пожара принимали участие 22 спецмашины. Николай Егоров сообщил также, что одна из версий,связанная с возможным покушением на редактора одной изпетербургских газет, занимавшегося предвыборной агитацией, неподтвердилась. По его словам, в одной из квартир этого домадействительно прописан редактор газеты \"Метро\". Но он сообщилправоохранительным органам, что его газета не печаталакаких-либо материалов, \"способных привести к такому финалу\". По последней информации, в милицию позвонил 29-летний бизнесмен, также проживающий в этом подъезде, и сообщил, что возможно, теракт был направлен против него.'),\n Document(metadata={'date': '1999/09/27', 'tags': 'Все', 'title': 'Взрыв в\\xa0Санкт-Петербурге: пострадавших нет', 'topic': 'Россия', 'url': 'https://lenta.ru/news/1999/09/27/spb_vzryv/'}, page_content='Взрыв, эквивалентный 50 граммам тротила, произошелсегодня в 5.45 по московскому времени у фасада одного из магазиновпродовольственного комплекса на проспекте Ветеранов вКрасносельском районе Санкт-Петербурга. В пресс-центре местногоуправления ГОЧС корреспонденту ИТАР-ТАСС сообщили, что врезультате взрыва образовалась небольшая выемка, разбитовитринное стекло. Пострадавших нет. На месте происшествия работают сотрудники МЧС, ФСБ,патрульно-постовой службы, 42-го отделения милиции. Задержанподозреваемый в совершении взрыва.'),\n Document(metadata={'date': '1999/09/23', 'tags': 'Все', 'title': 'Взрыв в\\xa0Санкт-Петербурге: жертв нет', 'topic': 'Россия', 'url': 'https://lenta.ru/news/1999/09/23/vzryv/'}, page_content='Как сообщила телекомпания НТВ, 23 сентября около 15:50 по местному времени оперативному дежурному ГУВД Санкт-Петербурга поступила информация о взрыве в жилом доме на Васильевском острове. Адрес дома - Железноводская улица, 68. Утверждается, что взрыв произошел на лестничной клетке у лифта. Подробностей о причинах взрыва и характере повреждений пока не сообщается. По информации агентства ИТАР-ТАСС, взрыв произошел в 15:16 и к месту происшествия выехали сотрудники МЧС. Со ссылкой на главное управление по делам ГОЧС Санкт-Петербурга агентство сообщает, что жертв, разрушений и пожаров взрыв на Васильевской не причинил. \\nМесто происшествия - карта В.У. Сидыганова')]"
     },
     "execution_count": 57,
     "metadata": {},
     "output_type": "execute_result"
    }
   ],
   "source": [
    "response['source_documents']"
   ],
   "metadata": {
    "collapsed": false,
    "ExecuteTime": {
     "start_time": "2024-09-10T17:01:04.650742Z",
     "end_time": "2024-09-10T17:01:04.655065Z"
    }
   }
  },
  {
   "cell_type": "code",
   "execution_count": null,
   "outputs": [],
   "source": [
    "torch.cuda.empty_cache()"
   ],
   "metadata": {
    "collapsed": false
   }
  }
 ],
 "metadata": {
  "kernelspec": {
   "display_name": "Python 3",
   "language": "python",
   "name": "python3"
  },
  "language_info": {
   "codemirror_mode": {
    "name": "ipython",
    "version": 2
   },
   "file_extension": ".py",
   "mimetype": "text/x-python",
   "name": "python",
   "nbconvert_exporter": "python",
   "pygments_lexer": "ipython2",
   "version": "2.7.6"
  }
 },
 "nbformat": 4,
 "nbformat_minor": 0
}
